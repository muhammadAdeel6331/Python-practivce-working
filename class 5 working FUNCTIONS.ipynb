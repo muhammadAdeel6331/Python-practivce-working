{
 "cells": [
  {
   "cell_type": "code",
   "execution_count": 2,
   "metadata": {},
   "outputs": [
    {
     "name": "stdout",
     "output_type": "stream",
     "text": [
      "5\n"
     ]
    }
   ],
   "source": [
    "def addnum(firstnum,secondnum):\n",
    "    result= firstnum+secondnum\n",
    "    print(result)\n",
    "\n",
    "firstnum =2\n",
    "secondnum =3\n",
    "\n",
    "addnum(firstnum, secondnum)\n"
   ]
  },
  {
   "cell_type": "code",
   "execution_count": 3,
   "metadata": {},
   "outputs": [
    {
     "name": "stdout",
     "output_type": "stream",
     "text": [
      "5\n"
     ]
    }
   ],
   "source": [
    "firstnum =2\n",
    "secondnum =3\n",
    "\n",
    "def addnum(num1,num2):\n",
    "    result= num1+num2\n",
    "    print(result)\n",
    "\n",
    "addnum(firstnum, secondnum)\n"
   ]
  },
  {
   "cell_type": "code",
   "execution_count": 4,
   "metadata": {},
   "outputs": [
    {
     "name": "stdout",
     "output_type": "stream",
     "text": [
      "30\n"
     ]
    }
   ],
   "source": [
    "def addnum(num1,num2):\n",
    "    result= num1+num2\n",
    "    print(result)\n",
    "\n",
    "addnum(num1=10,num2=20)"
   ]
  },
  {
   "cell_type": "code",
   "execution_count": 6,
   "metadata": {},
   "outputs": [
    {
     "name": "stdout",
     "output_type": "stream",
     "text": [
      "-4\n"
     ]
    }
   ],
   "source": [
    "firstnum =8\n",
    "secondnum =4\n",
    "\n",
    "def addnum(num2,num1):\n",
    "    result= num1-num2\n",
    "    print(result)\n",
    "\n",
    "addnum(firstnum, secondnum)\n"
   ]
  },
  {
   "cell_type": "code",
   "execution_count": 7,
   "metadata": {},
   "outputs": [
    {
     "name": "stdout",
     "output_type": "stream",
     "text": [
      "30\n"
     ]
    }
   ],
   "source": [
    "firstnum=10\n",
    "def myfun(ten, twenty=20):\n",
    "    result = ten + twenty\n",
    "    print(result)\n",
    "myfun(firstnum)"
   ]
  },
  {
   "cell_type": "code",
   "execution_count": 11,
   "metadata": {},
   "outputs": [
    {
     "name": "stdout",
     "output_type": "stream",
     "text": [
      "SMIT Python programing 3 months\n"
     ]
    }
   ],
   "source": [
    "inst=\"SMIT\"\n",
    "def coursedetail(inst,dur,lang=\"Python programing\"):\n",
    "    print(inst +\" \"+ lang+\" \"+dur)\n",
    "    \n",
    "coursedetail(inst,dur=\"3 months\")"
   ]
  },
  {
   "cell_type": "code",
   "execution_count": 14,
   "metadata": {},
   "outputs": [
    {
     "name": "stdout",
     "output_type": "stream",
     "text": [
      "my name is Adeel Tahir\n",
      "adeel@gmail.com\n",
      "12345\n",
      "KARACHI\n"
     ]
    }
   ],
   "source": [
    "def func(name,fname,*params):\n",
    "    print(\"my name is \"+name+\" \"+fname)\n",
    "    for pra in params:\n",
    "        print(pra)\n",
    "        \n",
    "func(\"Adeel\", \"Tahir\",\"adeel@gmail.com\",\"12345\",\"KARACHI\")"
   ]
  },
  {
   "cell_type": "code",
   "execution_count": 19,
   "metadata": {},
   "outputs": [
    {
     "name": "stdout",
     "output_type": "stream",
     "text": [
      "my name is Adeel Tahir\n",
      "email : adeel@gmail.com\n",
      "number : 12345\n",
      "city : KARACHI\n"
     ]
    }
   ],
   "source": [
    "def func(name,fname,**params):\n",
    "    print(\"my name is \"+name+\" \"+fname)\n",
    "    for key, value in params.items():\n",
    "        print(key +\" : \"+ value)\n",
    "        \n",
    "func(\"Adeel\",\"Tahir\",email=\"adeel@gmail.com\",number=\"12345\",city=\"KARACHI\")"
   ]
  },
  {
   "cell_type": "code",
   "execution_count": 20,
   "metadata": {},
   "outputs": [
    {
     "name": "stdout",
     "output_type": "stream",
     "text": [
      "3\n"
     ]
    }
   ],
   "source": [
    "def rfunc():\n",
    "    n1= 1\n",
    "    n2=2\n",
    "    result= n1 + n2\n",
    "    return result\n",
    "\n",
    "r_var= rfunc()\n",
    "print(r_var)"
   ]
  },
  {
   "cell_type": "code",
   "execution_count": 22,
   "metadata": {},
   "outputs": [
    {
     "name": "stdout",
     "output_type": "stream",
     "text": [
      "what is your name ?adeel\n",
      "adeel is enrolled in SMIT Python programming 3 months\n"
     ]
    }
   ],
   "source": [
    "def info():\n",
    "    inst=\"SMIT\"\n",
    "    lang=\"Python programming\"\n",
    "    duration=\"3 months\"\n",
    "    \n",
    "    return (inst +\" \"+lang+\" \"+ duration) #SMIT Python programming 3 months\n",
    "\n",
    "def user_info():\n",
    "    name= input(\"what is your name ?\")\n",
    "    result = name +\" is enrolled in \"+ info()\n",
    "    return result\n",
    "\n",
    "wholeinfo=user_info()\n",
    "    \n",
    "    \n",
    "print(wholeinfo)\n"
   ]
  },
  {
   "cell_type": "code",
   "execution_count": 26,
   "metadata": {},
   "outputs": [],
   "source": []
  },
  {
   "cell_type": "code",
   "execution_count": null,
   "metadata": {},
   "outputs": [],
   "source": []
  },
  {
   "cell_type": "code",
   "execution_count": null,
   "metadata": {},
   "outputs": [],
   "source": []
  },
  {
   "cell_type": "code",
   "execution_count": null,
   "metadata": {},
   "outputs": [],
   "source": []
  }
 ],
 "metadata": {
  "kernelspec": {
   "display_name": "Python 3",
   "language": "python",
   "name": "python3"
  },
  "language_info": {
   "codemirror_mode": {
    "name": "ipython",
    "version": 3
   },
   "file_extension": ".py",
   "mimetype": "text/x-python",
   "name": "python",
   "nbconvert_exporter": "python",
   "pygments_lexer": "ipython3",
   "version": "3.7.4"
  }
 },
 "nbformat": 4,
 "nbformat_minor": 2
}
