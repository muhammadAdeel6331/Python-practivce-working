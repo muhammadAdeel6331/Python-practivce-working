{
 "cells": [
  {
   "cell_type": "code",
   "execution_count": 5,
   "metadata": {},
   "outputs": [
    {
     "name": "stdout",
     "output_type": "stream",
     "text": [
      "what is your country name\n"
     ]
    }
   ],
   "source": [
    "##list of ditionarys\n",
    "\n",
    "questions = [\n",
    "    {\n",
    "        \"s no\": 1,\n",
    "        \"question\":\"what is your country name\",\n",
    "        \"options\":[\"pakistan\",\"USA\",\"UAE\",\"africa\"],\n",
    "        \"answer\":\"pakistan\"\n",
    "    },\n",
    "    {\n",
    "        \"s no\": 2,\n",
    "        \"question\":\"what is your country name\",\n",
    "        \"options\":[\"pakistan\",\"USA\",\"UAE\",\"africa\"],\n",
    "        \"answer\":\"pakistan\"\n",
    "    },\n",
    "    {\n",
    "        \"s no\": 3,\n",
    "        \"question\":\"what is your country name\",\n",
    "        \"options\":[\"pakistan\",\"USA\",\"UAE\",\"africa\"],\n",
    "        \"answer\":\"pakistan\"\n",
    "    }\n",
    "]\n",
    "\n",
    "\n",
    "a= questions[0][\"question\"]\n",
    "print(a)"
   ]
  },
  {
   "cell_type": "code",
   "execution_count": 9,
   "metadata": {},
   "outputs": [
    {
     "name": "stdout",
     "output_type": "stream",
     "text": [
      "[{'s no': 1, 'question': 'what is your country name', 'options': ['pakistan', 'USA', 'UAE', 'africa'], 'answer': 'pakistan'}, {'s no': 2, 'question': 'what is your country name', 'options': ['pakistan', 'USA', 'UAE', 'africa'], 'answer': 'pakistan'}, {'s no': 4, 'question': 'what is your country name', 'options': ['pakistan', 'USA', 'UAE', 'africa'], 'answer': 'pakistan'}, {'s no': 4, 'question': 'what is your country name', 'options': ['pakistan', 'USA', 'UAE', 'africa'], 'answer': 'pakistan'}, {'s no': 2, 'question': 'what is your country name', 'options': ['pakistan', 'USA', 'UAE', 'africa'], 'answer': 'pakistan'}, {'s no': 4, 'question': 'what is your country name', 'options': ['pakistan', 'USA', 'UAE', 'africa'], 'answer': 'pakistan'}, {'s no': 4, 'question': 'what is your country name', 'options': ['pakistan', 'USA', 'UAE', 'africa'], 'answer': 'pakistan'}, {'s no': 4, 'question': 'what is your country name', 'options': ['pakistan', 'USA', 'UAE', 'africa'], 'answer': 'pakistan'}, {'s no': 4, 'question': 'what is your country name', 'options': ['pakistan', 'USA', 'UAE', 'africa'], 'answer': 'pakistan'}]\n"
     ]
    }
   ],
   "source": [
    "##append \n",
    "new_question ={\n",
    "        \"s no\": 4,\n",
    "        \"question\":\"what is your country name\",\n",
    "        \"options\":[\"pakistan\",\"USA\",\"UAE\",\"africa\"],\n",
    "        \"answer\":\"pakistan\"\n",
    "}\n",
    "questions.append(new_question)\n",
    "questions.insert(2,new_question)\n",
    "print(questions)"
   ]
  },
  {
   "cell_type": "code",
   "execution_count": 14,
   "metadata": {},
   "outputs": [
    {
     "name": "stdout",
     "output_type": "stream",
     "text": [
      "15\n"
     ]
    }
   ],
   "source": [
    "##functions\n",
    "\n",
    "def addition():\n",
    "    num1 =5\n",
    "    num2 =10\n",
    "    total= num1+num2\n",
    "    print(total)\n",
    "addition()"
   ]
  },
  {
   "cell_type": "code",
   "execution_count": 17,
   "metadata": {},
   "outputs": [
    {
     "name": "stdout",
     "output_type": "stream",
     "text": [
      "30\n"
     ]
    }
   ],
   "source": [
    "def add_user(a,b):\n",
    "    total= a+b\n",
    "    print(total)\n",
    "add_user(10,20)"
   ]
  },
  {
   "cell_type": "code",
   "execution_count": null,
   "metadata": {},
   "outputs": [],
   "source": []
  }
 ],
 "metadata": {
  "kernelspec": {
   "display_name": "Python 3",
   "language": "python",
   "name": "python3"
  },
  "language_info": {
   "codemirror_mode": {
    "name": "ipython",
    "version": 3
   },
   "file_extension": ".py",
   "mimetype": "text/x-python",
   "name": "python",
   "nbconvert_exporter": "python",
   "pygments_lexer": "ipython3",
   "version": "3.7.4"
  }
 },
 "nbformat": 4,
 "nbformat_minor": 2
}
