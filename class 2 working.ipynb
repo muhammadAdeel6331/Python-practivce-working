{
 "cells": [
  {
   "cell_type": "code",
   "execution_count": 10,
   "metadata": {},
   "outputs": [
    {
     "name": "stdout",
     "output_type": "stream",
     "text": [
      "what is your age25\n",
      "allowed to ride\n"
     ]
    }
   ],
   "source": [
    "\n",
    "age = int(input(\"what is your age\"))\n",
    "if age >=18:\n",
    "    print(\"allowed to ride\")\n",
    "else:\n",
    "    print(\"not allowed\");"
   ]
  },
  {
   "cell_type": "code",
   "execution_count": 13,
   "metadata": {},
   "outputs": [
    {
     "name": "stdout",
     "output_type": "stream",
     "text": [
      "worng\n"
     ]
    }
   ],
   "source": [
    "x=10;\n",
    "y=22;\n",
    "a=30;\n",
    "b=8;\n",
    "\n",
    "if x+y == a-b:\n",
    "    print(\"corect\")\n",
    "else:\n",
    "    print(\"worng\")\n"
   ]
  },
  {
   "cell_type": "code",
   "execution_count": 21,
   "metadata": {},
   "outputs": [
    {
     "name": "stdout",
     "output_type": "stream",
     "text": [
      " enter your perccentage !344\n",
      " you have enter inappropeate %\n"
     ]
    }
   ],
   "source": [
    "per = int(input(\" enter your perccentage !\"));\n",
    "if per >=80  and per <= 100:\n",
    "    print(\"A+\")\n",
    "elif per >=70 and per < 80:\n",
    "    print(\"A\")\n",
    "elif per >=60 and per < 70:\n",
    "    print(\"B\")\n",
    "elif per >=0 and per < 60:\n",
    "    print(\"Fail\")\n",
    "else:\n",
    "    print(\" you have enter inappropeate %\")"
   ]
  },
  {
   "cell_type": "code",
   "execution_count": null,
   "metadata": {},
   "outputs": [],
   "source": []
  },
  {
   "cell_type": "code",
   "execution_count": null,
   "metadata": {},
   "outputs": [],
   "source": []
  }
 ],
 "metadata": {
  "kernelspec": {
   "display_name": "Python 3",
   "language": "python",
   "name": "python3"
  },
  "language_info": {
   "codemirror_mode": {
    "name": "ipython",
    "version": 3
   },
   "file_extension": ".py",
   "mimetype": "text/x-python",
   "name": "python",
   "nbconvert_exporter": "python",
   "pygments_lexer": "ipython3",
   "version": "3.7.4"
  }
 },
 "nbformat": 4,
 "nbformat_minor": 2
}
